{
 "cells": [
  {
   "cell_type": "code",
   "execution_count": 1,
   "id": "2dccb9e8",
   "metadata": {},
   "outputs": [
    {
     "name": "stdout",
     "output_type": "stream",
     "text": [
      "/Users/furkancetukkaya/Projects/nosql-fastapi-scrape/nbs\r\n"
     ]
    }
   ],
   "source": [
    "!pwd"
   ]
  },
  {
   "cell_type": "code",
   "execution_count": 2,
   "id": "c032192b",
   "metadata": {},
   "outputs": [
    {
     "name": "stdout",
     "output_type": "stream",
     "text": [
      "/Users/furkancetukkaya/Projects/nosql-fastapi-scrape\n"
     ]
    }
   ],
   "source": [
    "cd /Users/furkancetukkaya/Projects/nosql-fastapi-scrape"
   ]
  },
  {
   "cell_type": "code",
   "execution_count": 11,
   "id": "e43c0f12",
   "metadata": {},
   "outputs": [],
   "source": [
    "from app import crud, models, db, schema\n",
    "import uuid"
   ]
  },
  {
   "cell_type": "code",
   "execution_count": 4,
   "id": "fbed0623",
   "metadata": {},
   "outputs": [],
   "source": [
    "session = db.get_session()"
   ]
  },
  {
   "cell_type": "code",
   "execution_count": 5,
   "id": "be6596a3",
   "metadata": {},
   "outputs": [],
   "source": [
    "#data = models.data\n",
    "#data\n",
    "\n",
    "\n",
    "data = {'asin': 'testeee', 'title': 'BBABA', 'abc123': 'nothing'}"
   ]
  },
  {
   "cell_type": "code",
   "execution_count": 6,
   "id": "da25ac95",
   "metadata": {},
   "outputs": [],
   "source": [
    "from pydantic import BaseModel"
   ]
  },
  {
   "cell_type": "code",
   "execution_count": 7,
   "id": "9ee66a08",
   "metadata": {},
   "outputs": [],
   "source": [
    "class ProductBaseModel(BaseModel):\n",
    "    asin: str\n",
    "    title: str"
   ]
  },
  {
   "cell_type": "code",
   "execution_count": 8,
   "id": "d95b0d2a",
   "metadata": {},
   "outputs": [
    {
     "data": {
      "text/plain": [
       "{'asin': 'testeee', 'title': 'BBABA'}"
      ]
     },
     "execution_count": 8,
     "metadata": {},
     "output_type": "execute_result"
    }
   ],
   "source": [
    "product = ProductBaseModel(**data)\n",
    "product.dict()"
   ]
  },
  {
   "cell_type": "code",
   "execution_count": 9,
   "id": "9621f30f",
   "metadata": {},
   "outputs": [
    {
     "data": {
      "text/plain": [
       "(Product(asin='testeee', title='BBABA', price_str='-1'),\n",
       " ProductScrapeEvent(uuid=UUID('6f68b59e-eb67-11ed-bea8-f216ef491766'), asin='testeee', title='BBABA', price_str='-100'))"
      ]
     },
     "execution_count": 9,
     "metadata": {},
     "output_type": "execute_result"
    }
   ],
   "source": [
    "crud.add_scrape_event(product.dict(), fresh=True)"
   ]
  },
  {
   "cell_type": "code",
   "execution_count": 10,
   "id": "b8cc8814",
   "metadata": {},
   "outputs": [],
   "source": [
    "from pydantic import ValidationError\n",
    "\n",
    "data = dict(data)\n",
    "data['uuid'] = uuid.uuid1()\n",
    "try:\n",
    "    schema.ProductScrapeEventSchema(**data)\n",
    "except ValidationError as e:\n",
    "    print(e.json())"
   ]
  },
  {
   "cell_type": "code",
   "execution_count": null,
   "id": "04df0c8c",
   "metadata": {},
   "outputs": [],
   "source": []
  }
 ],
 "metadata": {
  "kernelspec": {
   "display_name": "Python 3 (ipykernel)",
   "language": "python",
   "name": "python3"
  },
  "language_info": {
   "codemirror_mode": {
    "name": "ipython",
    "version": 3
   },
   "file_extension": ".py",
   "mimetype": "text/x-python",
   "name": "python",
   "nbconvert_exporter": "python",
   "pygments_lexer": "ipython3",
   "version": "3.10.8"
  }
 },
 "nbformat": 4,
 "nbformat_minor": 5
}
