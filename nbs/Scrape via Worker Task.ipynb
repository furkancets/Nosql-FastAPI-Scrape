{
 "cells": [
  {
   "cell_type": "code",
   "execution_count": 2,
   "id": "3db302b7",
   "metadata": {},
   "outputs": [
    {
     "name": "stdout",
     "output_type": "stream",
     "text": [
      "/Users/furkancetukkaya/Projects/nosql-fastapi-scrape/nbs\r\n"
     ]
    }
   ],
   "source": [
    "!pwd"
   ]
  },
  {
   "cell_type": "code",
   "execution_count": 3,
   "id": "e70d68f0",
   "metadata": {},
   "outputs": [
    {
     "name": "stdout",
     "output_type": "stream",
     "text": [
      "/Users/furkancetukkaya/Projects/nosql-fastapi-scrape\n"
     ]
    }
   ],
   "source": [
    "cd /Users/furkancetukkaya/Projects/nosql-fastapi-scrape/"
   ]
  },
  {
   "cell_type": "code",
   "execution_count": 4,
   "id": "dbf9acde",
   "metadata": {},
   "outputs": [],
   "source": [
    "from bs4 import BeautifulSoup\n",
    "from slugify import slugify\n",
    "import pprint\n",
    "import re\n",
    "from app import worker, db"
   ]
  },
  {
   "cell_type": "code",
   "execution_count": 5,
   "id": "c853bbfd",
   "metadata": {},
   "outputs": [],
   "source": [
    "session = db.get_session()"
   ]
  },
  {
   "cell_type": "code",
   "execution_count": 9,
   "id": "d016d997",
   "metadata": {},
   "outputs": [
    {
     "name": "stdout",
     "output_type": "stream",
     "text": [
      "https://www.amazon.com/dp/B0758JHZM3/\n"
     ]
    },
    {
     "data": {
      "text/plain": [
       "('B0758JHZM3', True)"
      ]
     },
     "execution_count": 9,
     "metadata": {},
     "output_type": "execute_result"
    }
   ],
   "source": [
    "asin = \"B0758JHZM3\"\n",
    "worker.scrape_asin(asin)"
   ]
  },
  {
   "cell_type": "code",
   "execution_count": 7,
   "id": "4ed63568",
   "metadata": {},
   "outputs": [
    {
     "data": {
      "text/plain": [
       "<AsyncResult: 688e9364-fef6-42e1-b67a-882f6b37c90b>"
      ]
     },
     "execution_count": 7,
     "metadata": {},
     "output_type": "execute_result"
    }
   ],
   "source": [
    "asin = \"B0B4BWP18Q\"\n",
    "worker.scrape_asin.delay(asin)"
   ]
  },
  {
   "cell_type": "code",
   "execution_count": 8,
   "id": "7fe6f1e0",
   "metadata": {},
   "outputs": [
    {
     "name": "stdout",
     "output_type": "stream",
     "text": [
      "https://www.amazon.com/dp/B0BN1F94M4/\n"
     ]
    },
    {
     "data": {
      "text/plain": [
       "('B0BN1F94M4', True)"
      ]
     },
     "execution_count": 8,
     "metadata": {},
     "output_type": "execute_result"
    }
   ],
   "source": [
    "asin = \"B0BN1F94M4\"\n",
    "worker.scrape_asin(asin)"
   ]
  },
  {
   "cell_type": "code",
   "execution_count": null,
   "id": "ad660df9",
   "metadata": {},
   "outputs": [],
   "source": []
  }
 ],
 "metadata": {
  "kernelspec": {
   "display_name": "Python 3 (ipykernel)",
   "language": "python",
   "name": "python3"
  },
  "language_info": {
   "codemirror_mode": {
    "name": "ipython",
    "version": 3
   },
   "file_extension": ".py",
   "mimetype": "text/x-python",
   "name": "python",
   "nbconvert_exporter": "python",
   "pygments_lexer": "ipython3",
   "version": "3.10.8"
  }
 },
 "nbformat": 4,
 "nbformat_minor": 5
}
