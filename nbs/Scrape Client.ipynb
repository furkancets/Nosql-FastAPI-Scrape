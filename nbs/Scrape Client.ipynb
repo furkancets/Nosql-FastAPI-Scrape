{
 "cells": [
  {
   "cell_type": "code",
   "execution_count": 1,
   "id": "7c7d9a8a",
   "metadata": {},
   "outputs": [
    {
     "name": "stdout",
     "output_type": "stream",
     "text": [
      "/Users/furkancetukkaya/Projects/nosql-fastapi-scrape/nbs\r\n"
     ]
    }
   ],
   "source": [
    "!pwd"
   ]
  },
  {
   "cell_type": "code",
   "execution_count": 2,
   "id": "8478f436",
   "metadata": {},
   "outputs": [
    {
     "name": "stdout",
     "output_type": "stream",
     "text": [
      "/Users/furkancetukkaya/Projects/nosql-fastapi-scrape\n"
     ]
    }
   ],
   "source": [
    "cd /Users/furkancetukkaya/Projects/nosql-fastapi-scrape"
   ]
  },
  {
   "cell_type": "code",
   "execution_count": 3,
   "id": "769cd27f",
   "metadata": {},
   "outputs": [],
   "source": [
    "from bs4 import BeautifulSoup\n",
    "from slugify import slugify\n",
    "import pprint\n",
    "import re\n",
    "from app import scraper"
   ]
  },
  {
   "cell_type": "code",
   "execution_count": 4,
   "id": "f1897ddb",
   "metadata": {},
   "outputs": [],
   "source": [
    "url = \"https://www.amazon.com/Vitamix-56085-48-Ounce-Container/dp/B00JLG0UL8/ref=sr_1_3?crid=2HSE34WVNK3T9&keywords=vitamix&qid=1683726443&s=kitchen-intl-ship&sprefix=vitamix%2Ckitchen-intl-ship%2C185&sr=1-3&th=1\""
   ]
  },
  {
   "cell_type": "code",
   "execution_count": 5,
   "id": "50a7724b",
   "metadata": {},
   "outputs": [],
   "source": [
    "s = scraper.Scraper(url=url, endless_scroll=True)"
   ]
  },
  {
   "cell_type": "code",
   "execution_count": 6,
   "id": "f0d69dd1",
   "metadata": {},
   "outputs": [
    {
     "name": "stderr",
     "output_type": "stream",
     "text": [
      "/Users/furkancetukkaya/Projects/nosql-fastapi-scrape/app/scraper.py:123: GuessedAtParserWarning: No parser was explicitly specified, so I'm using the best available HTML parser for this system (\"html.parser\"). This usually isn't a problem, but if you run this code on another system, or in a different virtual environment, it may use a different parser and behave differently.\n",
      "\n",
      "The code that caused this warning is on line 123 of the file /Users/furkancetukkaya/Projects/nosql-fastapi-scrape/app/scraper.py. To get rid of this warning, pass the additional argument 'features=\"html.parser\"' to the BeautifulSoup constructor.\n",
      "\n",
      "  self.html_obj = BeautifulSoup(html_str)\n"
     ]
    }
   ],
   "source": [
    "dataset = s.scrape()"
   ]
  },
  {
   "cell_type": "code",
   "execution_count": 7,
   "id": "445d84bc",
   "metadata": {},
   "outputs": [
    {
     "data": {
      "text/plain": [
       "{'price_str': '$148.18',\n",
       " 'title_str': 'Vitamix Container, 48 oz., Clear - 56085',\n",
       " 'brand': 'Vitamix',\n",
       " 'product-dimensions': '8\"D x 10\"W x 14\"H',\n",
       " 'color': 'Clear',\n",
       " 'wattage': '30 watts',\n",
       " 'material': 'Polycarbonate',\n",
       " 'item-weight': '0.01 Ounces',\n",
       " 'product-care-instructions': 'Dishwasher Safe',\n",
       " 'included-components': 'container',\n",
       " 'model-name': 'Vitamix Container, 48 oz.',\n",
       " 'is-dishwasher-safe': 'Yes',\n",
       " 'blade-material': 'Stainless Steel',\n",
       " 'manufacturer': 'Vita-Mix Corporation',\n",
       " 'asin': 'B00JLG0UL8',\n",
       " 'domestic-shipping': 'Item can be shipped within U.S.',\n",
       " 'country-of-origin': 'USA',\n",
       " 'item-model-number': '56085',\n",
       " '1555-ratings': '1,555 ratings',\n",
       " 'is-discontinued-by-manufacturer': 'No',\n",
       " 'date-first-available': 'March 27, 2014'}"
      ]
     },
     "execution_count": 7,
     "metadata": {},
     "output_type": "execute_result"
    }
   ],
   "source": [
    "dataset"
   ]
  },
  {
   "cell_type": "code",
   "execution_count": null,
   "id": "a9f93d6d",
   "metadata": {},
   "outputs": [],
   "source": []
  }
 ],
 "metadata": {
  "kernelspec": {
   "display_name": "Python 3 (ipykernel)",
   "language": "python",
   "name": "python3"
  },
  "language_info": {
   "codemirror_mode": {
    "name": "ipython",
    "version": 3
   },
   "file_extension": ".py",
   "mimetype": "text/x-python",
   "name": "python",
   "nbconvert_exporter": "python",
   "pygments_lexer": "ipython3",
   "version": "3.10.8"
  }
 },
 "nbformat": 4,
 "nbformat_minor": 5
}
