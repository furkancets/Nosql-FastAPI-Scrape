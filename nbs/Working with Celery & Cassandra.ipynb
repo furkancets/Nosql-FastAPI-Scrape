{
 "cells": [
  {
   "cell_type": "code",
   "execution_count": 10,
   "id": "06ff7906",
   "metadata": {},
   "outputs": [
    {
     "name": "stdout",
     "output_type": "stream",
     "text": [
      "/Users/furkancetukkaya/Projects/nosql-fastapi-scrape\r\n"
     ]
    }
   ],
   "source": [
    "!pwd"
   ]
  },
  {
   "cell_type": "code",
   "execution_count": 11,
   "id": "36a28cb8",
   "metadata": {},
   "outputs": [
    {
     "name": "stdout",
     "output_type": "stream",
     "text": [
      "/Users/furkancetukkaya/Projects/nosql-fastapi-scrape\n"
     ]
    }
   ],
   "source": [
    "cd /Users/furkancetukkaya/Projects/nosql-fastapi-scrape"
   ]
  },
  {
   "cell_type": "code",
   "execution_count": 12,
   "id": "b188d1b9",
   "metadata": {},
   "outputs": [],
   "source": [
    "from app.worker import list_products\n",
    "from app import db"
   ]
  },
  {
   "cell_type": "code",
   "execution_count": 13,
   "id": "8d60e4e0",
   "metadata": {},
   "outputs": [
    {
     "name": "stdout",
     "output_type": "stream",
     "text": [
      "['testing123', 'testeee', 'http_test', 'AMZNIDNUMBER', 'AMZNIDNUMBERd']\n"
     ]
    }
   ],
   "source": [
    "session = db.get_session()\n",
    "list_products()"
   ]
  },
  {
   "cell_type": "code",
   "execution_count": 9,
   "id": "5b895d07",
   "metadata": {},
   "outputs": [
    {
     "data": {
      "text/plain": [
       "<AsyncResult: 47b859b1-ca50-42c3-ae49-60a649d91675>"
      ]
     },
     "execution_count": 9,
     "metadata": {},
     "output_type": "execute_result"
    }
   ],
   "source": [
    "list_products.delay()"
   ]
  },
  {
   "cell_type": "code",
   "execution_count": null,
   "id": "1c24cf21",
   "metadata": {},
   "outputs": [],
   "source": []
  }
 ],
 "metadata": {
  "kernelspec": {
   "display_name": "Python 3 (ipykernel)",
   "language": "python",
   "name": "python3"
  },
  "language_info": {
   "codemirror_mode": {
    "name": "ipython",
    "version": 3
   },
   "file_extension": ".py",
   "mimetype": "text/x-python",
   "name": "python",
   "nbconvert_exporter": "python",
   "pygments_lexer": "ipython3",
   "version": "3.10.8"
  }
 },
 "nbformat": 4,
 "nbformat_minor": 5
}
