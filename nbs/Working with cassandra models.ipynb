{
 "cells": [
  {
   "cell_type": "code",
   "execution_count": 3,
   "id": "2dccb9e8",
   "metadata": {},
   "outputs": [
    {
     "name": "stdout",
     "output_type": "stream",
     "text": [
      "/Users/furkancetukkaya/Projects/nosql-fastapi-scrape/nbs\r\n"
     ]
    }
   ],
   "source": [
    "!pwd"
   ]
  },
  {
   "cell_type": "code",
   "execution_count": 4,
   "id": "c032192b",
   "metadata": {},
   "outputs": [
    {
     "name": "stdout",
     "output_type": "stream",
     "text": [
      "/Users/furkancetukkaya/Projects/nosql-fastapi-scrape\n"
     ]
    }
   ],
   "source": [
    "cd /Users/furkancetukkaya/Projects/nosql-fastapi-scrape"
   ]
  },
  {
   "cell_type": "code",
   "execution_count": 5,
   "id": "e43c0f12",
   "metadata": {},
   "outputs": [],
   "source": [
    "from app import crud, models, db, main"
   ]
  },
  {
   "cell_type": "code",
   "execution_count": 6,
   "id": "fbed0623",
   "metadata": {},
   "outputs": [],
   "source": [
    "session = db.get_session()\n",
    "main.on_startup()"
   ]
  },
  {
   "cell_type": "code",
   "execution_count": 7,
   "id": "be6596a3",
   "metadata": {},
   "outputs": [
    {
     "data": {
      "text/plain": [
       "{'asin': 'testeee', 'title': 'BBABA'}"
      ]
     },
     "execution_count": 7,
     "metadata": {},
     "output_type": "execute_result"
    }
   ],
   "source": [
    "data = models.data\n",
    "data"
   ]
  },
  {
   "cell_type": "code",
   "execution_count": 8,
   "id": "c240c0e0",
   "metadata": {},
   "outputs": [
    {
     "data": {
      "text/plain": [
       "(Product(asin='testeee', title='BBABA', price_str='-1'),\n",
       " ProductScrapeEvent(uuid=UUID('b8c5c74e-eb81-11ed-b95a-f216ef491766'), asin='testeee', title='BBABA', price_str='-100'))"
      ]
     },
     "execution_count": 8,
     "metadata": {},
     "output_type": "execute_result"
    }
   ],
   "source": [
    "crud.add_scrape_event(data, fresh=True)"
   ]
  },
  {
   "cell_type": "code",
   "execution_count": 9,
   "id": "00789fb3",
   "metadata": {},
   "outputs": [
    {
     "data": {
      "text/plain": [
       "{'asin': 'testeee', 'title': 'BBABA'}"
      ]
     },
     "execution_count": 9,
     "metadata": {},
     "output_type": "execute_result"
    }
   ],
   "source": [
    "data"
   ]
  },
  {
   "cell_type": "code",
   "execution_count": 10,
   "id": "cc08b5a6",
   "metadata": {},
   "outputs": [
    {
     "name": "stdout",
     "output_type": "stream",
     "text": [
      "SELECT * FROM scrapper_app.product LIMIT 10000\n"
     ]
    }
   ],
   "source": [
    "print(models.Product.objects().all())"
   ]
  },
  {
   "cell_type": "code",
   "execution_count": 11,
   "id": "23fdaa8b",
   "metadata": {},
   "outputs": [
    {
     "name": "stdout",
     "output_type": "stream",
     "text": [
      "testing123\n",
      "testeee\n",
      "AMZNIDNUMBER\n",
      "AMZNIDNUMBERd\n"
     ]
    }
   ],
   "source": [
    "asin = \"testeee\"\n",
    "for obj in models.Product.objects().all():\n",
    "    print(obj.asin)"
   ]
  },
  {
   "cell_type": "code",
   "execution_count": 12,
   "id": "5e00d61e",
   "metadata": {},
   "outputs": [
    {
     "name": "stdout",
     "output_type": "stream",
     "text": [
      "Scrape event for testeee\n",
      "0 testeee 0f6008ea-e9e2-11ed-9f5a-f216ef491766\n",
      "1 testeee 6f68b59e-eb67-11ed-bea8-f216ef491766\n",
      "2 testeee ce966f34-e9e1-11ed-9f5a-f216ef491766\n",
      "3 testeee fa75724e-e9e1-11ed-9f5a-f216ef491766\n",
      "4 testeee e8295fe4-e9df-11ed-829d-f216ef491766\n",
      "5 testeee e8bb055a-e9e1-11ed-9f5a-f216ef491766\n",
      "6 testeee fc9613ee-e9e1-11ed-9f5a-f216ef491766\n",
      "7 testeee 9a809fae-e9e0-11ed-9f5a-f216ef491766\n",
      "8 testeee 985692ce-e9ef-11ed-90e6-f216ef491766\n",
      "9 testeee a0d2c052-e9dc-11ed-9b4e-f216ef491766\n",
      "10 testeee e85d018a-e9e1-11ed-9f5a-f216ef491766\n",
      "11 testeee cf88b7a8-e9e1-11ed-9f5a-f216ef491766\n",
      "12 testeee d0c1fa58-e9e1-11ed-9f5a-f216ef491766\n",
      "13 testeee 46567d98-e9e2-11ed-9f5a-f216ef491766\n",
      "14 testeee e68d1156-e9e1-11ed-9f5a-f216ef491766\n",
      "15 testeee 0e6a7d08-e9e2-11ed-9f5a-f216ef491766\n",
      "16 testeee fd39bc88-e9e1-11ed-9f5a-f216ef491766\n",
      "17 testeee e910111c-e9e1-11ed-9f5a-f216ef491766\n",
      "18 testeee a141cbdc-e9dc-11ed-9b4e-f216ef491766\n",
      "19 testeee 2b35ed06-e9e1-11ed-9f5a-f216ef491766\n",
      "20 testeee cff80540-e9e1-11ed-9f5a-f216ef491766\n",
      "21 testeee fc19d7d4-e9e1-11ed-9f5a-f216ef491766\n",
      "22 testeee 0dedc8e4-e9e2-11ed-9f5a-f216ef491766\n",
      "23 testeee e9bc5ed6-e9e1-11ed-9f5a-f216ef491766\n",
      "24 testeee 0c2c1024-e9e2-11ed-9f5a-f216ef491766\n",
      "25 testeee e72d22cc-e9e1-11ed-9f5a-f216ef491766\n",
      "26 testeee f2b6f0be-e9e1-11ed-9f5a-f216ef491766\n",
      "27 testeee a19a6b8e-e9dc-11ed-9b4e-f216ef491766\n",
      "28 testeee fb6b8c2e-e9e1-11ed-9f5a-f216ef491766\n",
      "29 testeee 0eced3ac-e9e2-11ed-9f5a-f216ef491766\n",
      "30 testeee e7f2c054-e9e1-11ed-9f5a-f216ef491766\n",
      "31 testeee ea3c9fb0-e9e1-11ed-9f5a-f216ef491766\n",
      "32 testeee 0f1f3e32-e9e2-11ed-9f5a-f216ef491766\n",
      "33 testeee 87e8da14-e9e0-11ed-9f5a-f216ef491766\n",
      "34 testeee b8c5c74e-eb81-11ed-b95a-f216ef491766\n",
      "35 testeee 093d65ae-e9ef-11ed-9d6b-f216ef491766\n",
      "36 testeee 9f0316c8-e9dc-11ed-9b4e-f216ef491766\n",
      "37 testeee d0617b9c-e9e1-11ed-9f5a-f216ef491766\n",
      "38 testeee a03bb7c0-e9dc-11ed-9b4e-f216ef491766\n",
      "39 testeee d1145370-e9e1-11ed-9f5a-f216ef491766\n",
      "40 testeee e966b166-e9e1-11ed-9f5a-f216ef491766\n",
      "41 testeee 9f336086-e9e0-11ed-9f5a-f216ef491766\n"
     ]
    }
   ],
   "source": [
    "if asin is not None:\n",
    "    print(f\"Scrape event for {asin}\")\n",
    "    q = models.ProductScrapeEvent.objects.filter(asin=asin)\n",
    "    for i,obj in enumerate(q):\n",
    "        print(i,obj.asin, obj.uuid)"
   ]
  },
  {
   "cell_type": "code",
   "execution_count": 13,
   "id": "b9828d9d",
   "metadata": {},
   "outputs": [
    {
     "name": "stdout",
     "output_type": "stream",
     "text": [
      "SELECT * FROM scrapper_app.product LIMIT 10000\n",
      "{'asin': 'testing123', 'price_str': '$42', 'title': 'hello worlder'}\n",
      "{'asin': 'testeee', 'price_str': '-1', 'title': 'BBABA'}\n",
      "{'asin': 'AMZNIDNUMBER', 'price_str': None, 'title': 'Mark 1'}\n",
      "{'asin': 'AMZNIDNUMBERd', 'price_str': None, 'title': 'Mark 1asas'}\n"
     ]
    }
   ],
   "source": [
    "q = models.Product.objects().all()\n",
    "cquery = str(q._select_query())\n",
    "print(cquery)\n",
    "for row in session.execute(cquery):\n",
    "    print(row)"
   ]
  },
  {
   "cell_type": "code",
   "execution_count": null,
   "id": "da25ac95",
   "metadata": {},
   "outputs": [],
   "source": []
  }
 ],
 "metadata": {
  "kernelspec": {
   "display_name": "Python 3 (ipykernel)",
   "language": "python",
   "name": "python3"
  },
  "language_info": {
   "codemirror_mode": {
    "name": "ipython",
    "version": 3
   },
   "file_extension": ".py",
   "mimetype": "text/x-python",
   "name": "python",
   "nbconvert_exporter": "python",
   "pygments_lexer": "ipython3",
   "version": "3.10.8"
  }
 },
 "nbformat": 4,
 "nbformat_minor": 5
}
