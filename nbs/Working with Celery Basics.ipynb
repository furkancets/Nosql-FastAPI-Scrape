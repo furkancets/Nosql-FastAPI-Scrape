{
 "cells": [
  {
   "cell_type": "code",
   "execution_count": 21,
   "id": "68bc034a",
   "metadata": {},
   "outputs": [
    {
     "name": "stdout",
     "output_type": "stream",
     "text": [
      "/Users/furkancetukkaya/Projects/nosql-fastapi-scrape\r\n"
     ]
    }
   ],
   "source": [
    "!pwd"
   ]
  },
  {
   "cell_type": "code",
   "execution_count": 22,
   "id": "af61a123",
   "metadata": {},
   "outputs": [
    {
     "name": "stdout",
     "output_type": "stream",
     "text": [
      "/Users/furkancetukkaya/Projects/nosql-fastapi-scrape\n"
     ]
    }
   ],
   "source": [
    "cd /Users/furkancetukkaya/Projects/nosql-fastapi-scrape"
   ]
  },
  {
   "cell_type": "code",
   "execution_count": 23,
   "id": "118b277c",
   "metadata": {},
   "outputs": [
    {
     "name": "stdout",
     "output_type": "stream",
     "text": [
      "/Users/furkancetukkaya/Projects/nosql-fastapi-scrape\r\n"
     ]
    }
   ],
   "source": [
    "!pwd"
   ]
  },
  {
   "cell_type": "code",
   "execution_count": 24,
   "id": "86ca8e69",
   "metadata": {},
   "outputs": [],
   "source": [
    "from app.worker import random_task"
   ]
  },
  {
   "cell_type": "code",
   "execution_count": 25,
   "id": "10c79d79",
   "metadata": {},
   "outputs": [
    {
     "name": "stdout",
     "output_type": "stream",
     "text": [
      "Who throws a shoe. Honestly Furkan .\n"
     ]
    }
   ],
   "source": [
    "random_task(\"Furkan\")"
   ]
  },
  {
   "cell_type": "code",
   "execution_count": 31,
   "id": "74045c6c",
   "metadata": {},
   "outputs": [
    {
     "name": "stdout",
     "output_type": "stream",
     "text": [
      "Who throws a shoe. Honestly Furkan .\n"
     ]
    }
   ],
   "source": [
    "random_task.s(\"Furkan\")"
   ]
  },
  {
   "cell_type": "code",
   "execution_count": 33,
   "id": "93aad422",
   "metadata": {},
   "outputs": [],
   "source": [
    "sig = random_task.s(\"Furkan\")"
   ]
  },
  {
   "cell_type": "code",
   "execution_count": 34,
   "id": "e940e9cc",
   "metadata": {},
   "outputs": [
    {
     "name": "stdout",
     "output_type": "stream",
     "text": [
      "Who throws a shoe. Honestly Furkan .\n"
     ]
    }
   ],
   "source": [
    "sig()"
   ]
  },
  {
   "cell_type": "code",
   "execution_count": 26,
   "id": "a3635c6f",
   "metadata": {},
   "outputs": [
    {
     "data": {
      "text/plain": [
       "<AsyncResult: eef59dbf-3ec5-4f37-92f1-e1934531375d>"
      ]
     },
     "execution_count": 26,
     "metadata": {},
     "output_type": "execute_result"
    }
   ],
   "source": [
    "random_task.delay(\"Furkan\")"
   ]
  },
  {
   "cell_type": "code",
   "execution_count": 27,
   "id": "c9505c50",
   "metadata": {},
   "outputs": [],
   "source": [
    "for i in range(10):\n",
    "    # random_task.apply_async(args=(f\"Justin-{i}\", ))\n",
    "    random_task.delay(f\"Furkan-{i}\")"
   ]
  },
  {
   "cell_type": "code",
   "execution_count": 28,
   "id": "8e93c728",
   "metadata": {},
   "outputs": [],
   "source": [
    "for i in range(10):\n",
    "    random_task.apply_async(args=(f\"Furkan-{i}\", ), countdown=10)"
   ]
  },
  {
   "cell_type": "code",
   "execution_count": null,
   "id": "beb69e89",
   "metadata": {},
   "outputs": [],
   "source": []
  }
 ],
 "metadata": {
  "kernelspec": {
   "display_name": "Python 3 (ipykernel)",
   "language": "python",
   "name": "python3"
  },
  "language_info": {
   "codemirror_mode": {
    "name": "ipython",
    "version": 3
   },
   "file_extension": ".py",
   "mimetype": "text/x-python",
   "name": "python",
   "nbconvert_exporter": "python",
   "pygments_lexer": "ipython3",
   "version": "3.10.8"
  }
 },
 "nbformat": 4,
 "nbformat_minor": 5
}
