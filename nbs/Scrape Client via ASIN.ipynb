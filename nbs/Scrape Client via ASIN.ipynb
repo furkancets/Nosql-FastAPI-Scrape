{
 "cells": [
  {
   "cell_type": "code",
   "execution_count": 2,
   "id": "9705705b",
   "metadata": {},
   "outputs": [
    {
     "name": "stdout",
     "output_type": "stream",
     "text": [
      "/Users/furkancetukkaya/Projects/nosql-fastapi-scrape/nbs\r\n"
     ]
    }
   ],
   "source": [
    "!pwd"
   ]
  },
  {
   "cell_type": "code",
   "execution_count": 3,
   "id": "3763cdaf",
   "metadata": {},
   "outputs": [
    {
     "name": "stdout",
     "output_type": "stream",
     "text": [
      "/Users/furkancetukkaya/Projects/nosql-fastapi-scrape\n"
     ]
    }
   ],
   "source": [
    "cd /Users/furkancetukkaya/Projects/nosql-fastapi-scrape/"
   ]
  },
  {
   "cell_type": "code",
   "execution_count": 4,
   "id": "6a5d10ce",
   "metadata": {},
   "outputs": [],
   "source": [
    "from bs4 import BeautifulSoup\n",
    "from slugify import slugify\n",
    "import pprint\n",
    "import re\n",
    "from app import scraper"
   ]
  },
  {
   "cell_type": "code",
   "execution_count": 5,
   "id": "cd3a92f4",
   "metadata": {},
   "outputs": [
    {
     "data": {
      "text/plain": [
       "'https://www.amazon.com/dp/B0758JHZM3/'"
      ]
     },
     "execution_count": 5,
     "metadata": {},
     "output_type": "execute_result"
    }
   ],
   "source": [
    "asin = \"B0758JHZM3\"\n",
    "url = f\"https://www.amazon.com/dp/{asin}/\"\n",
    "url"
   ]
  },
  {
   "cell_type": "code",
   "execution_count": 6,
   "id": "42a5c46b",
   "metadata": {},
   "outputs": [
    {
     "name": "stdout",
     "output_type": "stream",
     "text": [
      "https://www.amazon.com/dp/B0758JHZM3/\n"
     ]
    }
   ],
   "source": [
    "s = scraper.Scraper(asin=asin, endless_scroll=True)"
   ]
  },
  {
   "cell_type": "code",
   "execution_count": 7,
   "id": "0255862c",
   "metadata": {},
   "outputs": [],
   "source": [
    "dataset = s.scrape()"
   ]
  },
  {
   "cell_type": "code",
   "execution_count": 8,
   "id": "4b285c13",
   "metadata": {},
   "outputs": [
    {
     "data": {
      "text/plain": [
       "{'price_str': '$449',\n",
       " 'title_str': 'Vitamix VM0197 Explorian Blender, Professional-Grade, 48 oz. Container, Black',\n",
       " 'brand': 'Vitamix',\n",
       " 'color': 'Black',\n",
       " 'special-feature': 'Not-Applicable',\n",
       " 'capacity': '48 Fluid Ounces',\n",
       " 'product-dimensions': '11\"D x 8\"W x 17\"H',\n",
       " 'material': 'Tritan',\n",
       " 'included-components': \"Container^ Lid^ Tamper^ Motor Base^ Owner's Manual^ Introduction Booklet\",\n",
       " 'style': 'Blender',\n",
       " 'recommended-uses-for-product': 'Blending',\n",
       " 'power-source': 'AC',\n",
       " 'wattage': '1400 watts',\n",
       " 'number-of-speeds': '10',\n",
       " 'voltage': '120',\n",
       " 'item-weight': '11.5 Pounds',\n",
       " 'material-type-free': 'BPA Free',\n",
       " 'is-dishwasher-safe': 'Yes',\n",
       " 'blade-material': 'Stainless Steel',\n",
       " 'manufacturer': 'Vitamix',\n",
       " 'asin': 'B0758JHZM3',\n",
       " 'item-model-number': 'VM0197',\n",
       " '6729-ratings': '6,729 ratings',\n",
       " 'is-discontinued-by-manufacturer': 'No',\n",
       " 'date-first-available': 'August 31, 2017'}"
      ]
     },
     "execution_count": 8,
     "metadata": {},
     "output_type": "execute_result"
    }
   ],
   "source": [
    "dataset"
   ]
  },
  {
   "cell_type": "code",
   "execution_count": null,
   "id": "ff4b3f1d",
   "metadata": {},
   "outputs": [],
   "source": []
  }
 ],
 "metadata": {
  "kernelspec": {
   "display_name": "Python 3 (ipykernel)",
   "language": "python",
   "name": "python3"
  },
  "language_info": {
   "codemirror_mode": {
    "name": "ipython",
    "version": 3
   },
   "file_extension": ".py",
   "mimetype": "text/x-python",
   "name": "python",
   "nbconvert_exporter": "python",
   "pygments_lexer": "ipython3",
   "version": "3.10.8"
  }
 },
 "nbformat": 4,
 "nbformat_minor": 5
}
