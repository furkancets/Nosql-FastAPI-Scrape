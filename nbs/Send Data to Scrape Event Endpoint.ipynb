{
 "cells": [
  {
   "cell_type": "code",
   "execution_count": 4,
   "id": "9c0fe8f3",
   "metadata": {},
   "outputs": [],
   "source": [
    "import requests"
   ]
  },
  {
   "cell_type": "code",
   "execution_count": 18,
   "id": "4ae5c9e5",
   "metadata": {},
   "outputs": [
    {
     "name": "stdout",
     "output_type": "stream",
     "text": [
      "{'asin': 'http_test', 'title': 'abc123', 'price_str': '$19.99'}\n"
     ]
    }
   ],
   "source": [
    "endpoint = \"http://127.0.0.1:8000/events/scrape\"\n",
    "asin = \"http_test\"\n",
    "r = requests.post(endpoint, json={\"asin\": asin, \"title\": \"abc123\", \"price_str\": \"$19.99\"})\n",
    "print(r.json())                 "
   ]
  },
  {
   "cell_type": "code",
   "execution_count": 31,
   "id": "110fbb8d",
   "metadata": {},
   "outputs": [
    {
     "name": "stdout",
     "output_type": "stream",
     "text": [
      "14\n"
     ]
    }
   ],
   "source": [
    "endpoint2 = f\"http://127.0.0.1:8000/products/{asin}/events\"\n",
    "\n",
    "r2 = requests.get(endpoint2)\n",
    "print(len(r2.json()))"
   ]
  },
  {
   "cell_type": "code",
   "execution_count": 30,
   "id": "fa51309d",
   "metadata": {},
   "outputs": [
    {
     "name": "stdout",
     "output_type": "stream",
     "text": [
      "{'asin': 'http_test', 'title': 'abc123', 'price_str': '$19.99'}\n"
     ]
    }
   ],
   "source": [
    "base_url = \"ngrok'dan ürettiğiniz url'i buraya koyun.\"\n",
    "path = \"/events/scrape\"\n",
    "endpoint = f\"{base_url}{path}\"\n",
    "r = requests.post(endpoint, json={\"asin\": asin, \"title\": \"abc123\", \"price_str\": \"$19.99\"})\n",
    "print(r.json())"
   ]
  },
  {
   "cell_type": "code",
   "execution_count": null,
   "id": "42b30d0e",
   "metadata": {},
   "outputs": [],
   "source": []
  },
  {
   "cell_type": "code",
   "execution_count": null,
   "id": "5900d387",
   "metadata": {},
   "outputs": [],
   "source": []
  }
 ],
 "metadata": {
  "kernelspec": {
   "display_name": "Python 3 (ipykernel)",
   "language": "python",
   "name": "python3"
  },
  "language_info": {
   "codemirror_mode": {
    "name": "ipython",
    "version": 3
   },
   "file_extension": ".py",
   "mimetype": "text/x-python",
   "name": "python",
   "nbconvert_exporter": "python",
   "pygments_lexer": "ipython3",
   "version": "3.10.8"
  }
 },
 "nbformat": 4,
 "nbformat_minor": 5
}
